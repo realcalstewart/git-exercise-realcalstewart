{
 "cells": [
  {
   "cell_type": "code",
   "execution_count": 1,
   "id": "70810c7c",
   "metadata": {},
   "outputs": [],
   "source": [
    "import pandas as pd\n",
    "import numpy as np"
   ]
  },
  {
   "cell_type": "code",
   "execution_count": 2,
   "id": "1e2c0d29",
   "metadata": {},
   "outputs": [],
   "source": [
    "schoolexp_df = pd.read_csv(r'C:\\Users\\12265\\Downloads\\2016 School Explorer.csv')"
   ]
  }
 ],
 "metadata": {
  "kernelspec": {
   "display_name": "Python 3 (ipykernel)",
   "language": "python",
   "name": "python3"
  },
  "language_info": {
   "codemirror_mode": {
    "name": "ipython",
    "version": 3
   },
   "file_extension": ".py",
   "mimetype": "text/x-python",
   "name": "python",
   "nbconvert_exporter": "python",
   "pygments_lexer": "ipython3",
   "version": "3.9.13"
  }
 },
 "nbformat": 4,
 "nbformat_minor": 5
}
